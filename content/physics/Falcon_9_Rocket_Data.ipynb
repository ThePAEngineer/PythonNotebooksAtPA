{
 "cells": [
  {
   "cell_type": "code",
   "execution_count": 1,
   "metadata": {
    "id": "dBf6eEd-KjyE"
   },
   "outputs": [],
   "source": [
    "# Importing the modules we'll need\n",
    "import pandas as pd\n",
    "import numpy as np\n",
    "from scipy.integrate import simps\n",
    "import matplotlib as mpl\n",
    "from matplotlib import pyplot as plt\n",
    "mpl.rcParams.update(mpl.rcParamsDefault)\n",
    "%matplotlib inline\n",
    "\n",
    "# Set the graph size to be large\n",
    "#plt.rcParams['figure.figsize'] = (10,6)\n",
    "#plt.rcParams['figure.dpi'] = 600\n",
    "\n",
    "#Importing the data set\n",
    "data_url = \"https://raw.githubusercontent.com/Peter-Apps/Coding-in-MS-HS/master/Falcon%209%20Rocket%20Data.csv\"\n",
    "data = pd.read_csv(data_url,on_bad_lines='skip')"
   ]
  },
  {
   "cell_type": "markdown",
   "metadata": {
    "id": "wTWPM6vVOG4g"
   },
   "source": [
    "This Data was obtained from [nasaspaceflight.com](https://forum.nasaspaceflight.com/index.php?PHPSESSID=ifk0betabqbh2rrgjp10rfis2n&topic=40983.0;all) created by SpaceOpera from OCR Recognization of SpaceX Youtube videos. The current dataset is for the JASON-3 launch"
   ]
  },
  {
   "cell_type": "markdown",
   "metadata": {
    "id": "kmIuPSl0kWR9"
   },
   "source": [
    "There are a couple of useful commands we can use to view the data. The first is ``` data.head(n) ``` which shows us the first *n* lines of the table. The second is ``` data.shape``` which shows us the number of rows and columns in the data.\n",
    "\n",
    "Use the code block below to answer the following questions\n",
    "\n",
    "\n",
    "1.   What are the column headings in the data table?\n",
    "2.   How long is it between data measurements?\n",
    "3.   How many data points are there in this data table?\n",
    "\n",
    "\n"
   ]
  },
  {
   "cell_type": "code",
   "execution_count": null,
   "metadata": {
    "id": "7hZHerrrLZZc"
   },
   "outputs": [],
   "source": [
    "# I'm a code block, enter your commands here\n",
    "data.head(5)"
   ]
  },
  {
   "cell_type": "markdown",
   "metadata": {
    "id": "fiVOn9RDPrhl"
   },
   "source": [
    "# Graphing the Data #\n",
    "One of the main ways we're going to use this platform is to easily make graphs of the data. Here's an example where we create a simple plot.\n",
    "> Creating a simple distance vs time graph  \n",
    "\n",
    "\n",
    "\n",
    "\n"
   ]
  },
  {
   "cell_type": "code",
   "execution_count": null,
   "metadata": {
    "id": "lVgIT-pVPD2p"
   },
   "outputs": [],
   "source": [
    "plt.plot(data[\"Time\"], data[\"Altitude\"]) # Telling what data to plot (x,y)\n",
    "plt.title(\"Altitude vs Time Graph\")      # Adding a Title\n",
    "plt.xlabel(\"Time (s)\")                   # Adding axis labels\n",
    "plt.ylabel(\"Altitude (m)\")\n",
    "\n",
    "# This is for if you want to\n",
    "# Save the image (Look in the file folder on the left side to find them)\n",
    "plt.savefig(\"Altitude vs Time graph.png\",dpi = 400, bbox_inches = \"tight\")\n",
    "\n",
    "plt.show()                               # Showing the graph\n"
   ]
  },
  {
   "cell_type": "markdown",
   "metadata": {
    "id": "97LKoAECQv7i"
   },
   "source": [
    "Your turn! Use the example above to create a   Velocity vs Time graph"
   ]
  },
  {
   "cell_type": "code",
   "execution_count": null,
   "metadata": {
    "id": "-U7XoYWsVa65"
   },
   "outputs": [],
   "source": [
    "# I'm a code block, enter your commands here\n",
    "\n",
    "plt.plot(___________________) # Telling what data to plot (x,y)\n",
    "plt.title(\"My Plot Title\")      # Adding a Title\n",
    "plt.xlabel(\"Title the Horizontal Axis\")                   # Adding axis labels\n",
    "plt.ylabel(\"Title the Vertical Axis\")\n",
    "plt.show()"
   ]
  },
  {
   "cell_type": "markdown",
   "metadata": {
    "id": "EyOYKZNTcscA"
   },
   "source": [
    "###Extension - Plotting multiple graphs on the same axis ###\n",
    "\n",
    "Sometimes it's useful to plot 2 graphs on the same set of axis so we can better see patterns and features in the data. Here's an example of plotting the velocity and altitude data"
   ]
  },
  {
   "cell_type": "code",
   "execution_count": null,
   "metadata": {
    "id": "zhZMDffKc0iY"
   },
   "outputs": [],
   "source": [
    "fig, ax1 = plt.subplots()\n",
    "\n",
    "ax1.set_xlabel('time (s)')\n",
    "ax1.set_ylabel(\"Altitude (m)\", color=\"blue\")\n",
    "ax1.plot(data[\"Time\"], data[\"Altitude\"], color=\"blue\")\n",
    "ax1.tick_params(axis='y', labelcolor=\"blue\")\n",
    "\n",
    "ax2 = ax1.twinx()  # add a second axes that shares the same x-axis\n",
    "\n",
    "ax2.set_ylabel('Velocity', color=\"green\")  # we already handled the x-label with ax1\n",
    "ax2.plot(data[\"Time\"], data[\"Velocity\"], color=\"green\")\n",
    "ax2.tick_params(axis='y', labelcolor=\"green\")\n",
    "\n",
    "fig.tight_layout()  # otherwise the right y-label is slightly clipped\n",
    "plt.show()"
   ]
  },
  {
   "cell_type": "markdown",
   "metadata": {
    "id": "DJ071f8yQ0i0"
   },
   "source": [
    "# Calculations #\n",
    "##Calculating the acceleration##\n",
    "Remember we can find the acceleration of the rocket using $a = \\frac{\\Delta v}{\\Delta t} = \\frac{d}{dt}v$  \n",
    "\n",
    "1.   Why is the acceleration on the first line NaN (not a number)? (Double click this markdown cell & enter your answer!)\n",
    "\n"
   ]
  },
  {
   "cell_type": "code",
   "execution_count": null,
   "metadata": {
    "id": "Kz5KQiEdQvk9"
   },
   "outputs": [],
   "source": [
    "data[\"Acceleration\"] = (data[\"Velocity\"].diff()/_________)\n",
    "data.head(5)"
   ]
  },
  {
   "cell_type": "code",
   "execution_count": null,
   "metadata": {
    "id": "4uEm_jrdfoug"
   },
   "outputs": [],
   "source": [
    "# The NaN for the acceleration will cause errors later on.\n",
    "# We're going to use this command to replace it with a 0.\n",
    "data = data.fillna(0);\n"
   ]
  },
  {
   "cell_type": "code",
   "execution_count": null,
   "metadata": {
    "id": "ckR3Rud-Vx_l"
   },
   "outputs": [],
   "source": [
    "# Use & update the previous graphing code to make a plot of Acceleration vs Time\n",
    "\n",
    "plt.plot(_______________)\n"
   ]
  },
  {
   "cell_type": "markdown",
   "metadata": {
    "id": "AQavihLlVx23"
   },
   "source": [
    "Questions to ponder:  (Double click this markdown cell to edit it and answer the questions)\n",
    "\n",
    "1.   How does the shape of the acceleration graph relate to the shape of the velocity graph you made?\n",
    "2.   What's up with the wierd dips at ~150s and ~ 550s?\n",
    "3.   What is the lowest value for the acceleration? Hint:\n",
    "```\n",
    " min(list of numbers)\n",
    "```\n",
    "\n",
    "\n",
    "\n"
   ]
  },
  {
   "cell_type": "code",
   "execution_count": null,
   "metadata": {
    "id": "_dPutbsSWnRF"
   },
   "outputs": [],
   "source": [
    "# I'm a code block, use me to help with the questions!\n"
   ]
  },
  {
   "cell_type": "markdown",
   "metadata": {
    "id": "NvGOal1Fgd2I"
   },
   "source": [
    "## Calculating Velocity from Acceleration ##\n",
    "The velocity can also be determined by looking at the **area under the acceleration curve**. For most of our cases, we'll be using simple geometric shapes, but the code below can do it for any raw set of data. For those of you in AP Calc, this uses the trapezoid method to find the area."
   ]
  },
  {
   "cell_type": "code",
   "execution_count": null,
   "metadata": {
    "id": "QYB4wSVeYFTi"
   },
   "outputs": [],
   "source": [
    "# Calculate the velocity from the acceleration data\n",
    "import scipy.integrate as it\n",
    "data[\"Calc Vel from Accel\"] = it.cumtrapz(data[\"YAxisValue\"],data[\"HorizontalAxisValue\"],initial=0)\n",
    "\n",
    "# Calculate velocity from the position data\n",
    "data[\"Calc Vel from Altitude\"] = data[\"Altitude\"].diff()/_____________\n",
    "\n",
    "# Let's graph it to see if there's any major differences\n",
    "plt.plot(data[\"Time\"],data[\"Velocity\"], label = \"Measured Velocity\", color = \"blue\",marker='o')\n",
    "plt.plot(data[\"Time\"],data[\"Calc Vel from Accel\"], label = \"Area from Acceleration Graph\", color = \"red\")\n",
    "plt.plot(data[\"Time\"], data[\"Calc Vel from Altitude\"], label = \"Slope of Altitude Graph\", color = \"green\", linestyle = None)\n",
    "plt.legend()\n",
    "plt.show()\n",
    "\n"
   ]
  },
  {
   "cell_type": "markdown",
   "metadata": {
    "id": "250pr47Ni4sM"
   },
   "source": [
    "Likewise we can find the position (Altitude) from the area under the velocity graph. Use the example above and see if you can create a graph showing the measured altitude and the calculated altitude"
   ]
  },
  {
   "cell_type": "code",
   "execution_count": null,
   "metadata": {
    "id": "5-2Sw2OHhbsG"
   },
   "outputs": [],
   "source": [
    "data[\"Calc Altitude from Vel\"] = ________________\n",
    "\n",
    "plt.plot(data[\"Time\"], data[\"Altitude\"], label = \"Video Altitude\", color = \"blue\")\n",
    "plt.plot(data[\"Time\"], data[\"Calc Altitude from Vel\"], label = \"Calculated Altitude\", color = \"red\")\n",
    "plt.legend()\n",
    "plt.show()"
   ]
  },
  {
   "cell_type": "markdown",
   "metadata": {
    "id": "HglItiyhqf4w"
   },
   "source": [
    "At this point you might have noticed a few strange things in the last few graphs. The calculated velocity from the slope of the altitude graph and the calculated altitude from the velocity graph don't agree with their measured values from the video.\n",
    "\n",
    "Any ideas why that could be? (and blaming the computer isn't a good one)"
   ]
  },
  {
   "cell_type": "code",
   "execution_count": null,
   "metadata": {
    "id": "SQ1n_Fi6qPwl"
   },
   "outputs": [],
   "source": []
  },
  {
   "cell_type": "markdown",
   "metadata": {
    "id": "Xxv6-mq7TWI5"
   },
   "source": [
    "## Credits\n",
    "This notebook was designed by Quarknet Coding Fellow Peter Apps. Thanks to the great folks at [Binder](https://mybinder.org/) and [Google Colaboratory](https://colab.research.google.com/notebooks/intro.ipynb) for making this notebook interactive without you needing to download it or install [Jupyter](https://jupyter.org/) on your own device."
   ]
  }
 ],
 "metadata": {
  "colab": {
   "provenance": []
  },
  "kernelspec": {
   "display_name": "base",
   "language": "python",
   "name": "python3"
  },
  "language_info": {
   "codemirror_mode": {
    "name": "ipython",
    "version": 3
   },
   "file_extension": ".py",
   "mimetype": "text/x-python",
   "name": "python",
   "nbconvert_exporter": "python",
   "pygments_lexer": "ipython3",
   "version": "3.9.12"
  }
 },
 "nbformat": 4,
 "nbformat_minor": 0
}
