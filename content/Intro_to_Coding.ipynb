{
 "cells": [
  {
   "cell_type": "markdown",
   "metadata": {
    "id": "enn5tcNeRTB2"
   },
   "source": [
    "# Introduction to Coding\n",
    "This is a *Jupyter notebook* with blocks of code called *cells*. You can press shift+ENTER to *run* a cell and go on to the next one. You can also edit the code and run it again to see how the output changes.\n",
    "\n",
    "Try running the following cells by pressing SHIFT and ENTER (at the same time) for each one.\n",
    "\n",
    "*You won't hurt anything by experimenting. If you break it, close the tab and open the activity again to start over.*"
   ]
  },
  {
   "cell_type": "markdown",
   "metadata": {
    "id": "6wILKgtOoaZK"
   },
   "source": [
    "# Code Blocks!"
   ]
  },
  {
   "cell_type": "markdown",
   "metadata": {
    "id": "6U7txHUObQ0L"
   },
   "source": [
    "### Say Hello!"
   ]
  },
  {
   "cell_type": "code",
   "execution_count": null,
   "metadata": {
    "id": "fTwxYjaxacxq"
   },
   "outputs": [],
   "source": [
    "# This is a code block, we can use this to run Python code.\n",
    "# One of the very first things that a programmer does is run some code that says hello!\n",
    "# The line below does this in Python.\n",
    "# Press SHIFT + ENTER or click the play button on the left to run this code.\n",
    "\n",
    "\"Hello World!\""
   ]
  },
  {
   "cell_type": "code",
   "execution_count": null,
   "metadata": {
    "id": "XAli18oWa5Zf"
   },
   "outputs": [],
   "source": [
    "# Let's expand this a bit now. Can you change the line below to say hello to someone else?\n",
    "# If you get an error, remember that the message needs to be in quotes (\"\")\n",
    "\n",
    "\"Hello (Change this to someone's name)!\""
   ]
  },
  {
   "cell_type": "code",
   "execution_count": null,
   "metadata": {
    "id": "l-ty-4IObPLX"
   },
   "outputs": [],
   "source": [
    "# We're going to add one more step and use a variable to store the person's name.\n",
    "name = \"Person's Name\" # <-- This takes the text and stores it in the variable called name\n",
    "\n",
    " # Now we can use that variable in the print command.\n",
    " # Notice how our text starts with a f before the quotes, this lets us use {} to include the variable.\n",
    "f\"Hello {name}!\""
   ]
  },
  {
   "cell_type": "markdown",
   "metadata": {
    "id": "xkPTlSm6b6HN"
   },
   "source": [
    "Challenge:\n",
    "* Create a variable called ```name2``` and store another person's name in it.\n",
    "* Add a line that prints hello to that other person."
   ]
  },
  {
   "cell_type": "markdown",
   "metadata": {
    "id": "3ziFm11GadfA"
   },
   "source": [
    "### Math with Codeblocks"
   ]
  },
  {
   "cell_type": "code",
   "execution_count": null,
   "metadata": {
    "id": "bhrkxWCzRTB5"
   },
   "outputs": [],
   "source": [
    "# Click on this cell. Then, press SHIFT and ENTER at the same time.\n",
    "2+2"
   ]
  },
  {
   "cell_type": "code",
   "execution_count": null,
   "metadata": {
    "id": "8_XdGU-WRTB6"
   },
   "outputs": [],
   "source": [
    "# This is called a \"comment\". It's a message to other humans.\n",
    "# Starting with # tells the program not to read this line.\n",
    "# the program will run the next line since it doesn't start with #\n",
    "5-4"
   ]
  },
  {
   "cell_type": "code",
   "execution_count": null,
   "metadata": {
    "id": "Ca-lM6FnRTB7"
   },
   "outputs": [],
   "source": [
    "# the following lines define variables called \"a\" and \"b\"\n",
    "a = 4\n",
    "b = 3\n",
    "\n",
    "# the next line shows us what a plus b is.\n",
    "a+b"
   ]
  },
  {
   "cell_type": "code",
   "execution_count": null,
   "metadata": {
    "id": "gS30S-ehRTB7"
   },
   "outputs": [],
   "source": [
    "c = a*a # this line calculates a times a and saves the result as a varialbe called \"c\"\n",
    "c       # this line tells the program to show us what \"c\" is."
   ]
  },
  {
   "cell_type": "markdown",
   "metadata": {
    "collapsed": true,
    "id": "iyRUuM7hRTB8"
   },
   "source": [
    "Try editing some of the code above.\n",
    "- Edit some code to do a different calculation\n",
    "- Add a comment somehwere\n",
    "\n",
    "You can run a cell again by pressing shift+ENTER."
   ]
  },
  {
   "cell_type": "code",
   "execution_count": null,
   "metadata": {
    "id": "Fc4wYW_CRTB8"
   },
   "outputs": [],
   "source": [
    "# Can you figure out what ** does?\n",
    "e = b**a\n",
    "e"
   ]
  },
  {
   "cell_type": "markdown",
   "metadata": {
    "id": "1_VHxCeQSJGP"
   },
   "source": [
    "## Displaying Your Results"
   ]
  },
  {
   "cell_type": "markdown",
   "metadata": {
    "id": "vxAZ0xxjSN5A"
   },
   "source": [
    "Notice how the last line of each of your code blocks ended with the variable we wanted to display?\n",
    "\n",
    "This works great if you only want to show one thing, but what if we wanted to show multiple variables?"
   ]
  },
  {
   "cell_type": "code",
   "execution_count": null,
   "metadata": {
    "id": "ntlYxvsNSbsp"
   },
   "outputs": [],
   "source": [
    "# Try it and find out!\n",
    "a = 5.0\n",
    "b = 8.25\n",
    "\n",
    "a\n",
    "b\n",
    "a+b"
   ]
  },
  {
   "cell_type": "markdown",
   "metadata": {
    "id": "sT6vfwxmSn-R"
   },
   "source": [
    "We can use the ```print()``` command to specifically print a variable"
   ]
  },
  {
   "cell_type": "code",
   "execution_count": null,
   "metadata": {
    "id": "yfEkVFQfSi6f"
   },
   "outputs": [],
   "source": [
    "print(a)\n",
    "print(b)\n",
    "print(\"The sum is \", a+b)"
   ]
  },
  {
   "cell_type": "markdown",
   "metadata": {
    "id": "2icV35sSS7RB"
   },
   "source": [
    "You can also use f-strings to format your output. Here's a couple of [links](https://docs.python.org/3/reference/lexical_analysis.html#f-strings) to some [examples](https://realpython.com/python-f-strings/) of how to use f-strings to print data"
   ]
  },
  {
   "cell_type": "code",
   "execution_count": null,
   "metadata": {
    "id": "uqoXEQdyS41K"
   },
   "outputs": [],
   "source": [
    "# Place the variables in between the {}\n",
    "print(f'{a} + {b} = {a+b}')\n",
    "\n",
    "# Can you figure out what this does?\n",
    "print(f'{b:.10f}')\n",
    "\n",
    "# How about this one?\n",
    "print(f'{b = }')"
   ]
  },
  {
   "cell_type": "markdown",
   "metadata": {
    "id": "-jo9hceYTo_L"
   },
   "source": [
    "Being able to print out info at any step in your code is really useful for finding mistakes & debugging problems."
   ]
  },
  {
   "cell_type": "markdown",
   "metadata": {
    "id": "vjqk1kj6Tzwz"
   },
   "source": [
    "## Making & Fixing Mistakes"
   ]
  },
  {
   "cell_type": "markdown",
   "metadata": {
    "id": "dmLuS-OGT37G"
   },
   "source": [
    "Mistakes happen and there's no getting around it. Let's take a look at some common errors you might see and how to fix them. (Google is always an option!)"
   ]
  },
  {
   "cell_type": "code",
   "execution_count": null,
   "metadata": {
    "id": "xE1HxiLJUE8B"
   },
   "outputs": [],
   "source": [
    "# NameError\n",
    "number = 10\n",
    "print(Number)"
   ]
  },
  {
   "cell_type": "code",
   "execution_count": null,
   "metadata": {
    "id": "htLlYm7fUnAo"
   },
   "outputs": [],
   "source": [
    "# TypeError\n",
    "number2 = 5.0\n",
    "number3 = \"10\"\n",
    "print(number2 + number3)"
   ]
  },
  {
   "cell_type": "code",
   "execution_count": null,
   "metadata": {
    "id": "w5aC4PmAa95T"
   },
   "outputs": [],
   "source": [
    "# Syntax Error\n",
    "number4 = 123\n",
    "print(f'{number4})"
   ]
  },
  {
   "cell_type": "code",
   "execution_count": null,
   "metadata": {
    "id": "g5txDwN2bXOe"
   },
   "outputs": [],
   "source": [
    "import math\n",
    "# Value Error\n",
    "number5 = -504.2\n",
    "print(math.sqrt(number5))\n"
   ]
  },
  {
   "cell_type": "markdown",
   "metadata": {
    "id": "FGShoIJbplii"
   },
   "source": [
    "## Help I'm Stuck! (or I want to learn more!)"
   ]
  },
  {
   "cell_type": "markdown",
   "metadata": {
    "id": "ASykDeVDpn2L"
   },
   "source": [
    "###Useful sites for help:\n",
    "* [StackOverflow.com](https://stackoverflow.com)\n",
    "* [w3schools.com](https://www.w3schools.com/python/default.asp)\n",
    "* [freecodecamp.com](https://www.freecodecamp.org/news/tag/python/)\n"
   ]
  },
  {
   "cell_type": "markdown",
   "metadata": {
    "id": "_XYyIoNcR0B_"
   },
   "source": [
    "# Markdown Text Blocks"
   ]
  },
  {
   "cell_type": "markdown",
   "metadata": {
    "id": "yJ5OflRcRTB9"
   },
   "source": [
    "\n",
    "The cells above are *code cells* that let you to run code. This is a *markdown cell* that contains markdown text. That's text that isn't read as Python code. Instead, you can format markdown text to look nice.\n",
    "\n",
    "Double-click on this cell to see the markdown text underneath. Running a markdown cell turns it into pretty, formatted text.\n",
    "- here's a bullet point\n",
    "- and another list item in *italics* and **bold**.\n",
    "- this is a hyperlink to [my favorite thing on the web](https://www.youtube.com/watch?v=dQw4w9WgXcQ)\n",
    "- You can even embed images  \n",
    "![cute kitten](https://github.com/adamlamee/CODINGinK12/raw/master/notebooks/1dayoldkitten.png)\n",
    "- and enter math equations in [LaTeX](https://tilburgsciencehub.com/building-blocks/collaborate-and-share-your-work/write-your-paper/amsmath-latex-cheatsheet/) $y=mx+b$  \n",
    "$\\begin{aligned} v &= \\frac{d}{t} \\\\ d &= {v}{t} \\end{aligned}$\n",
    "\n",
    "\n",
    "## Try this\n",
    "Double-click on this cell to see the code that formats this text. Make a few edits and press shift+ENTER to see the changes.\n",
    "\n",
    "Read more about [formatting the markdown text](https://help.github.com/articles/basic-writing-and-formatting-syntax/) in a cell, like this one, or go to Help > Markdown > Basic Writing and Formatting Text."
   ]
  },
  {
   "cell_type": "markdown",
   "metadata": {
    "id": "RBsh_fJDmMNX"
   },
   "source": [
    "## Credits\n",
    "This notebook was designed by [Adam LaMee](https://adamlamee.github.io/) and modified by Peter Apps. Thanks to the great folks at [Binder](https://mybinder.org/) and [Google Colaboratory](https://colab.research.google.com/notebooks/intro.ipynb) for making this notebook interactive without you needing to download it or install [Jupyter](https://jupyter.org/) on your own device. Find more activities and license info at [CODINGinK12.org](http://www.codingink12.org)."
   ]
  }
 ],
 "metadata": {
  "colab": {
   "provenance": []
  },
  "kernelspec": {
   "display_name": "base",
   "language": "python",
   "name": "python3"
  },
  "language_info": {
   "codemirror_mode": {
    "name": "ipython",
    "version": 3
   },
   "file_extension": ".py",
   "mimetype": "text/x-python",
   "name": "python",
   "nbconvert_exporter": "python",
   "pygments_lexer": "ipython3",
   "version": "3.9.12"
  },
  "widgets": {
   "application/vnd.jupyter.widget-state+json": {
    "14f3d50706a84481bc9f1b9ac363ab18": {
     "model_module": "jupyter-matplotlib",
     "model_module_version": "^0.11",
     "model_name": "MPLCanvasModel",
     "state": {
      "_cursor": "default",
      "_data_url": "data:image/png;base64,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",
      "_dom_classes": [],
      "_figure_label": "Figure 1",
      "_image_mode": "full",
      "_message": "",
      "_model_module": "jupyter-matplotlib",
      "_model_module_version": "^0.11",
      "_model_name": "MPLCanvasModel",
      "_rubberband_height": 0,
      "_rubberband_width": 0,
      "_rubberband_x": 0,
      "_rubberband_y": 0,
      "_size": [
       640,
       480
      ],
      "_view_count": null,
      "_view_module": "jupyter-matplotlib",
      "_view_module_version": "^0.11",
      "_view_name": "MPLCanvasView",
      "capture_scroll": false,
      "footer_visible": true,
      "header_visible": true,
      "layout": "IPY_MODEL_bdbf749d5be1489f95d23459738365e4",
      "pan_zoom_throttle": 33,
      "resizable": true,
      "toolbar": "IPY_MODEL_8807575e2ec54f0bb3bec23c6dee6532",
      "toolbar_position": "left",
      "toolbar_visible": "fade-in-fade-out"
     }
    },
    "8807575e2ec54f0bb3bec23c6dee6532": {
     "model_module": "jupyter-matplotlib",
     "model_module_version": "^0.11",
     "model_name": "ToolbarModel",
     "state": {
      "_current_action": "",
      "_dom_classes": [],
      "_model_module": "jupyter-matplotlib",
      "_model_module_version": "^0.11",
      "_model_name": "ToolbarModel",
      "_view_count": null,
      "_view_module": "jupyter-matplotlib",
      "_view_module_version": "^0.11",
      "_view_name": "ToolbarView",
      "button_style": "",
      "collapsed": true,
      "layout": "IPY_MODEL_f72b29bf5a1848a8af8b587581e79c58",
      "orientation": "vertical",
      "toolitems": [
       [
        "Home",
        "Reset original view",
        "home",
        "home"
       ],
       [
        "Back",
        "Back to previous view",
        "arrow-left",
        "back"
       ],
       [
        "Forward",
        "Forward to next view",
        "arrow-right",
        "forward"
       ],
       [
        "Pan",
        "Left button pans, Right button zooms\nx/y fixes axis, CTRL fixes aspect",
        "arrows",
        "pan"
       ],
       [
        "Zoom",
        "Zoom to rectangle\nx/y fixes axis",
        "square-o",
        "zoom"
       ],
       [
        "Download",
        "Download plot",
        "floppy-o",
        "save_figure"
       ]
      ]
     }
    },
    "bdbf749d5be1489f95d23459738365e4": {
     "model_module": "@jupyter-widgets/base",
     "model_module_version": "1.2.0",
     "model_name": "LayoutModel",
     "state": {
      "_model_module": "@jupyter-widgets/base",
      "_model_module_version": "1.2.0",
      "_model_name": "LayoutModel",
      "_view_count": null,
      "_view_module": "@jupyter-widgets/base",
      "_view_module_version": "1.2.0",
      "_view_name": "LayoutView",
      "align_content": null,
      "align_items": null,
      "align_self": null,
      "border": null,
      "bottom": null,
      "display": null,
      "flex": null,
      "flex_flow": null,
      "grid_area": null,
      "grid_auto_columns": null,
      "grid_auto_flow": null,
      "grid_auto_rows": null,
      "grid_column": null,
      "grid_gap": null,
      "grid_row": null,
      "grid_template_areas": null,
      "grid_template_columns": null,
      "grid_template_rows": null,
      "height": null,
      "justify_content": null,
      "justify_items": null,
      "left": null,
      "margin": null,
      "max_height": null,
      "max_width": null,
      "min_height": null,
      "min_width": null,
      "object_fit": null,
      "object_position": null,
      "order": null,
      "overflow": null,
      "overflow_x": null,
      "overflow_y": null,
      "padding": null,
      "right": null,
      "top": null,
      "visibility": null,
      "width": null
     }
    },
    "f72b29bf5a1848a8af8b587581e79c58": {
     "model_module": "@jupyter-widgets/base",
     "model_module_version": "1.2.0",
     "model_name": "LayoutModel",
     "state": {
      "_model_module": "@jupyter-widgets/base",
      "_model_module_version": "1.2.0",
      "_model_name": "LayoutModel",
      "_view_count": null,
      "_view_module": "@jupyter-widgets/base",
      "_view_module_version": "1.2.0",
      "_view_name": "LayoutView",
      "align_content": null,
      "align_items": null,
      "align_self": null,
      "border": null,
      "bottom": null,
      "display": null,
      "flex": null,
      "flex_flow": null,
      "grid_area": null,
      "grid_auto_columns": null,
      "grid_auto_flow": null,
      "grid_auto_rows": null,
      "grid_column": null,
      "grid_gap": null,
      "grid_row": null,
      "grid_template_areas": null,
      "grid_template_columns": null,
      "grid_template_rows": null,
      "height": null,
      "justify_content": null,
      "justify_items": null,
      "left": null,
      "margin": null,
      "max_height": null,
      "max_width": null,
      "min_height": null,
      "min_width": null,
      "object_fit": null,
      "object_position": null,
      "order": null,
      "overflow": null,
      "overflow_x": null,
      "overflow_y": null,
      "padding": null,
      "right": null,
      "top": null,
      "visibility": null,
      "width": null
     }
    }
   }
  }
 },
 "nbformat": 4,
 "nbformat_minor": 0
}
