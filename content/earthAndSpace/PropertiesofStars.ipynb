{
 "cells": [
  {
   "cell_type": "markdown",
   "metadata": {},
   "source": [
    "# Properties of the Stars\n",
    "\n",
    "Analyzing Appearance and Properties"
   ]
  },
  {
   "cell_type": "markdown",
   "metadata": {},
   "source": [
    "### Importing the functions and getting the data..."
   ]
  },
  {
   "cell_type": "code",
   "execution_count": null,
   "metadata": {
    "collapsed": true
   },
   "outputs": [],
   "source": [
    "# Import modules that contain functions we need\n",
    "import pandas as pd\n",
    "import numpy as np\n",
    "%matplotlib inline\n",
    "import matplotlib.pyplot as plt"
   ]
  },
  {
   "cell_type": "code",
   "execution_count": null,
   "metadata": {
    "collapsed": false
   },
   "outputs": [],
   "source": [
    "# Read in data that will be used for the calculations.\n",
    "# Using pandas read_csv method, we can create a data frame\n",
    "data = pd.read_csv(\"https://github.com/adamlamee/CODINGinK12/raw/refs/heads/master/data/stars.csv\")"
   ]
  },
  {
   "cell_type": "code",
   "execution_count": null,
   "metadata": {
    "collapsed": false
   },
   "outputs": [],
   "source": [
    "# We wish too look at the first 3 rows of our data set\n",
    "data.head(3)"
   ]
  },
  {
   "cell_type": "markdown",
   "metadata": {},
   "source": [
    "# PART 1: All the Stars in Our Catalogue\n",
    "\n",
    "<b>Declination</b> is the distance a star is North or South of the Celestial Equator, similar to <u><i>lattitude</u></i> on Earth. <b>Right</b> <b>Ascension</b> is how far east or west a star is, similar to <u><i>longitude</u></i> on Earth."
   ]
  },
  {
   "cell_type": "code",
   "execution_count": null,
   "metadata": {
    "collapsed": false
   },
   "outputs": [],
   "source": [
    "fig = plt.figure(figsize=(15, 6))\n",
    "plt.scatter(data.ra,data.dec, s=0.01)\n",
    "plt.xlim(24, 0)\n",
    "plt.title(\"All the Stars in the Catalogue\")\n",
    "plt.xlabel('Right Ascension (Hours)')\n",
    "plt.ylabel('Declination (Degrees)')"
   ]
  },
  {
   "cell_type": "code",
   "execution_count": null,
   "metadata": {
    "collapsed": false
   },
   "outputs": [],
   "source": [
    "from IPython.display import Image\n",
    "from IPython.core.display import HTML \n",
    "\n",
    "Image(url= 'http://www.hpcf.upr.edu/~abel/phl/nearby_stars_with_exoplanets.png')\n"
   ]
  },
  {
   "cell_type": "markdown",
   "metadata": {},
   "source": [
    "# PART 2: Relationships Between Two Properties"
   ]
  },
  {
   "cell_type": "code",
   "execution_count": null,
   "metadata": {
    "collapsed": false,
    "scrolled": true
   },
   "outputs": [],
   "source": [
    "# format the points on the graph\n",
    "transparency = 1\n",
    "size = 1\n",
    "\n",
    "# draws a scatter plot\n",
    "fig = plt.figure(figsize=(20, 4.5))\n",
    "plt.scatter(data.temp, data.lum, s=size, edgecolors='none', alpha=transparency)\n",
    "plt.xlim(2000,15000)\n",
    "plt.ylim(0,1000)\n",
    "plt.title(\"Does hotter mean brighter?\")\n",
    "plt.ylabel(\"Luminosity\")\n",
    "plt.xlabel(\"Temperature (K)\")"
   ]
  },
  {
   "cell_type": "code",
   "execution_count": null,
   "metadata": {
    "collapsed": false
   },
   "outputs": [],
   "source": [
    "Image(url= 'http://hmxearthscience.com/Galaxies%20and%20Stars/HR%20Lab%202.jpg')"
   ]
  },
  {
   "cell_type": "markdown",
   "metadata": {},
   "source": [
    "# PART 3: Constellations and Star Properties"
   ]
  },
  {
   "cell_type": "code",
   "execution_count": null,
   "metadata": {
    "collapsed": false
   },
   "outputs": [],
   "source": [
    "# These are the abbreviations for all the constellations\n",
    "data.sort_values('con').con.unique()"
   ]
  },
  {
   "cell_type": "markdown",
   "metadata": {},
   "source": [
    "![](http://www.ianridpath.com/image/list1.jpg)\n",
    "\n",
    "###### Choose a Constellation from the list above and insert the 3 letter code below in the \" \", for example \"Vir\"."
   ]
  },
  {
   "cell_type": "code",
   "execution_count": null,
   "metadata": {
    "collapsed": false
   },
   "outputs": [],
   "source": [
    "# This shows just one constellation\n",
    "data_con = data.query('con == \"Vir\"')\n",
    "\n",
    "# This plots where the brightest 10 stars are in the sky\n",
    "data_con = data_con.sort_values('mag').head(10)\n",
    "plt.scatter(data_con.ra,data_con.dec)\n",
    "plt.gca().invert_xaxis()\n",
    "plt.title(\"A constellation in the sky\")\n",
    "plt.xlabel('Right Ascension (degrees)')\n",
    "plt.ylabel('Declination (Hours)')"
   ]
  },
  {
   "cell_type": "markdown",
   "metadata": {},
   "source": [
    "## Links for Question #9\n",
    "[Can we see your constellation now?](http://www.astroviewer.com/current-night-sky.php?lon=-80.21&lat=25.78&city=Miami%2C+FL&tz=EST)"
   ]
  },
  {
   "cell_type": "markdown",
   "metadata": {},
   "source": [
    "### Which types of stars make up your constellation?"
   ]
  },
  {
   "cell_type": "code",
   "execution_count": null,
   "metadata": {
    "collapsed": false,
    "scrolled": true
   },
   "outputs": [],
   "source": [
    "# format the points on the graph\n",
    "transparency = 0.2\n",
    "size = 1\n",
    "\n",
    "# draws a scatter plot\n",
    "fig = plt.figure(figsize=(6, 4.5))\n",
    "plt.scatter(data.temp, data.absmag, s=size, edgecolors='none', alpha=transparency)\n",
    "plt.scatter(data_con.temp, data_con.absmag, color='red', edgecolors='none')\n",
    "plt.xlim(17000,2000)\n",
    "plt.ylim(18,-18)\n",
    "plt.title(\"Types of stars in a constellation\")\n",
    "plt.ylabel(\"Absolute Magnitude\")\n",
    "plt.xlabel(\"Temperature (K)\")"
   ]
  },
  {
   "cell_type": "markdown",
   "metadata": {},
   "source": [
    "## HR Diagram\n",
    "\n",
    "###### The Stars in the constellation are highlighted as red dots in the graph above\n",
    "![](http://www.khadley.com/Courses/Astronomy/PH_206/topics/stars/images/hrcolour.jpg?crc=34034591)"
   ]
  },
  {
   "cell_type": "markdown",
   "metadata": {},
   "source": [
    "# References\n",
    "- The data came from [The Astronomy Nexus](http://www.astronexus.com/hyg) and their colletion of the Hipparcos, Yale Bright Star, and Gliese catalogues ([huge zip file here](http://www.astronexus.com/files/downloads/hygdata_v3.csv.gz)).\n",
    "- Thanks to UCF Physics undergrad Tyler Townsend for contributing to the development of this notebook."
   ]
  },
  {
   "cell_type": "code",
   "execution_count": null,
   "metadata": {
    "collapsed": true
   },
   "outputs": [],
   "source": []
  }
 ],
 "metadata": {
  "anaconda-cloud": {},
  "kernelspec": {
   "display_name": "base",
   "language": "python",
   "name": "python3"
  },
  "language_info": {
   "codemirror_mode": {
    "name": "ipython",
    "version": 3
   },
   "file_extension": ".py",
   "mimetype": "text/x-python",
   "name": "python",
   "nbconvert_exporter": "python",
   "pygments_lexer": "ipython3",
   "version": "3.9.12"
  }
 },
 "nbformat": 4,
 "nbformat_minor": 0
}
