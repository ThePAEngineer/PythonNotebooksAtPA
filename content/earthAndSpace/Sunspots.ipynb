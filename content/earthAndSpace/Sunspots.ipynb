{
  "cells": [
    {
      "cell_type": "markdown",
      "metadata": {
        "id": "ErdHWaFVNlGx"
      },
      "source": [
        "#  Plotting Sunspots\n",
        "This activity looks for patterns in sunspot data from the Sunspot Index and Long-term Solar Observations. \n",
        "\n",
        "To get started,you won't hurt anything by experimenting. If you break it, close the tab and open the activity again to start over.\n",
        "\n",
        "When you're ready, run each code cell until you get down to **Part One**."
      ]
    },
    {
      "cell_type": "code",
      "execution_count": 1,
      "metadata": {
        "id": "v0y7wlYmNlG0"
      },
      "outputs": [],
      "source": [
        "#importing what we'll need\n",
        "import numpy as np\n",
        "import pandas as pd\n",
        "%matplotlib inline\n",
        "import matplotlib.pyplot as plt\n",
        "pd.options.display.max_columns = 25"
      ]
    },
    {
      "cell_type": "code",
      "execution_count": 2,
      "metadata": {
        "id": "zCNBSlw0NlG7"
      },
      "outputs": [
        {
          "data": {
            "text/html": [
              "<div>\n",
              "<style scoped>\n",
              "    .dataframe tbody tr th:only-of-type {\n",
              "        vertical-align: middle;\n",
              "    }\n",
              "\n",
              "    .dataframe tbody tr th {\n",
              "        vertical-align: top;\n",
              "    }\n",
              "\n",
              "    .dataframe thead th {\n",
              "        text-align: right;\n",
              "    }\n",
              "</style>\n",
              "<table border=\"1\" class=\"dataframe\">\n",
              "  <thead>\n",
              "    <tr style=\"text-align: right;\">\n",
              "      <th></th>\n",
              "      <th>Month</th>\n",
              "      <th>Sunspots</th>\n",
              "    </tr>\n",
              "  </thead>\n",
              "  <tbody>\n",
              "    <tr>\n",
              "      <th>0</th>\n",
              "      <td>1749.538</td>\n",
              "      <td>135.9</td>\n",
              "    </tr>\n",
              "    <tr>\n",
              "      <th>1</th>\n",
              "      <td>1749.623</td>\n",
              "      <td>137.9</td>\n",
              "    </tr>\n",
              "    <tr>\n",
              "      <th>2</th>\n",
              "      <td>1749.707</td>\n",
              "      <td>140.2</td>\n",
              "    </tr>\n",
              "    <tr>\n",
              "      <th>3</th>\n",
              "      <td>1749.790</td>\n",
              "      <td>143.8</td>\n",
              "    </tr>\n",
              "    <tr>\n",
              "      <th>4</th>\n",
              "      <td>1749.874</td>\n",
              "      <td>146.4</td>\n",
              "    </tr>\n",
              "  </tbody>\n",
              "</table>\n",
              "</div>"
            ],
            "text/plain": [
              "      Month  Sunspots\n",
              "0  1749.538     135.9\n",
              "1  1749.623     137.9\n",
              "2  1749.707     140.2\n",
              "3  1749.790     143.8\n",
              "4  1749.874     146.4"
            ]
          },
          "execution_count": 2,
          "metadata": {},
          "output_type": "execute_result"
        }
      ],
      "source": [
        "# average monthly sunspots from Git file updated on 7/8/20\n",
        "data = pd.read_csv(\"https://github.com/fizzixprof/sunspots/raw/master/Sunspots.csv\")\n",
        "\n",
        "data.head(5) # choose to show the first (how many) lines of the file"
      ]
    },
    {
      "cell_type": "code",
      "execution_count": 3,
      "metadata": {
        "id": "dkPib1s_NlHC"
      },
      "outputs": [
        {
          "data": {
            "text/plain": [
              "(3285, 2)"
            ]
          },
          "execution_count": 3,
          "metadata": {},
          "output_type": "execute_result"
        }
      ],
      "source": [
        "# The .shape command displays the (number of rows , number of columns) in a file.\n",
        "data.shape"
      ]
    },
    {
      "cell_type": "markdown",
      "metadata": {
        "id": "QtR0x6gINlHa"
      },
      "source": [
        "## Part One\n",
        "The table above shows the number of sunspots counted each month.\n",
        "- How far back does the data go?\n",
        "- How many rows of data do you have?\n",
        "- How is time represented in this dataset?\n",
        "When you're ready, run each code cell until you get down to **Part Two**."
      ]
    },
    {
      "cell_type": "code",
      "execution_count": null,
      "metadata": {
        "id": "ye8hL8wRNlHb"
      },
      "outputs": [],
      "source": [
        "# makes the scatterplot\n",
        "x=data.Year # defines the x-axis\n",
        "y=data.Sunspots # defines the y-axis\n",
        "plt.scatter(x,y, s=1) # defines the graph as a scatterplot with x and y\n",
        "plt.xlabel('x label') # label your x-axis\n",
        "plt.ylabel('y label') # label your y-axis\n",
        "plt.title('title me!') # title your graph\n",
        "plt.axis([1749, 2020, 0, 300]) # dimensions of your scatterplot\n",
        "plt.show() "
      ]
    },
    {
      "cell_type": "markdown",
      "metadata": {
        "id": "01BbTHNElFGf"
      },
      "source": [
        "# Part Two\n",
        "The code above makes a scatterplot with a point for the amount of sunspots each month.\n",
        "\n",
        "Do you notice a pattern in the graph?\n",
        "\n",
        "The title and axis labels on the graph could use some work. Try editing the code above the graph, then run the code again to see the changes."
      ]
    },
    {
      "cell_type": "markdown",
      "metadata": {
        "id": "6_zKJTxFlUkS"
      },
      "source": [
        " ## Part Three  \n",
        "Now it's time to conduct your own investigation. The code above lets you filter the data set by year (it's called a \"query\").  \n",
        "- Find the line that does a query on \"year\".  \n",
        "- Try filtering the data for only sunspots since 1900, then make a plot.\n",
        "- Try filtering the data for only sunspots between 1900 and 1950. Change the x-axis so you can zoom in on this data.\n",
        "\n",
        "Is the cycle about the same? How many years is it, approximately?\n",
        "\n",
        "Cut your data using a different time frame and see if the cycles are about the same length as you see here."
      ]
    },
    {
      "cell_type": "code",
      "execution_count": null,
      "metadata": {
        "id": "17DC-mLNiXBP"
      },
      "outputs": [],
      "source": [
        "plotdata = data.query('Year < 2000') # redefining the data to plot based on your query\n",
        "x=plotdata['Year']\n",
        "y=plotdata['Sunspots']\n",
        "plt.scatter(x,y, s=1)\n",
        "plt.xlabel('x label')\n",
        "plt.ylabel('y label')\n",
        "plt.title('title me!')\n",
        "plt.axis([1749, 2020, 0, 300])\n",
        "plt.show()"
      ]
    },
    {
      "cell_type": "markdown",
      "metadata": {
        "id": "stay-G74lzBb"
      },
      "source": [
        "  ## Part Four  \n",
        "Let's find specific values: sort your data to find the 3 months with the greatest number of sunspots. Find the top 20 months. \n",
        "\n",
        "*   Are they near each other? Similar years?\n",
        "\n",
        "*   What would happen if you changed your sort to head from tail? \n",
        "*   Do some of those values surprise you?\n",
        "\n",
        "You can investigate where numbers in your data come from when you see surprising values. The data [website](http://www.sidc.be/silso/infosnmstot) has a button to read over how they determine sunspot averages. "
      ]
    },
    {
      "cell_type": "code",
      "execution_count": null,
      "metadata": {
        "id": "YyxqYwU3naCg"
      },
      "outputs": [],
      "source": [
        "# Sort the data to find the highest values\n",
        "# Create a data frame to make sorting easier\n",
        "df = pd.DataFrame(data) # Creates a data frame from your original data\n",
        "sort_by_sunspot_number = data.sort_values('Sunspots') # Defines a sorted set\n",
        "print(sort_by_sunspot_number.tail(n=3)) #Shows just the top 3"
      ]
    },
    {
      "cell_type": "code",
      "execution_count": null,
      "metadata": {
        "id": "dKCa02hdrX00"
      },
      "outputs": [],
      "source": [
        "# write your own command to see the top 20 months for sunspots"
      ]
    },
    {
      "cell_type": "code",
      "execution_count": null,
      "metadata": {
        "id": "niJV0xEtspk3"
      },
      "outputs": [],
      "source": [
        "# replace tail with head to find the bottom 20 months for sunspots"
      ]
    },
    {
      "cell_type": "markdown",
      "metadata": {
        "id": "7zxnaMQNNlHf"
      },
      "source": [
        "## Credits\n",
        "The data come from the [Sunspot Index and Long-term Solar Observations](http://www.sidc.be/silso/datafiles) Source: WDC-SILSO, Royal Observatory of Belgium, Brussels. This notebook was created by physics teacher and Quarknet member Tiffany Coke using a template created by fellow physics teacher Peter Apps, York Middle/High School, Retsof, NY, and further developed by [Adam LaMee](https://adamlamee.github.io/). Thanks to the great folks at [Binder](https://mybinder.org/) and [Google Colaboratory](https://colab.research.google.com/notebooks/intro.ipynb) for making this notebook interactive without you needing to download it or install [Jupyter](https://jupyter.org/) on your own device. Find more activities and license info at [CODINGinK12.org](http://www.codingink12.org)."
      ]
    }
  ],
  "metadata": {
    "anaconda-cloud": {},
    "colab": {
      "include_colab_link": true,
      "provenance": []
    },
    "kernelspec": {
      "display_name": "base",
      "language": "python",
      "name": "python3"
    },
    "language_info": {
      "codemirror_mode": {
        "name": "ipython",
        "version": 3
      },
      "file_extension": ".py",
      "mimetype": "text/x-python",
      "name": "python",
      "nbconvert_exporter": "python",
      "pygments_lexer": "ipython3",
      "version": "3.9.12"
    }
  },
  "nbformat": 4,
  "nbformat_minor": 0
}
