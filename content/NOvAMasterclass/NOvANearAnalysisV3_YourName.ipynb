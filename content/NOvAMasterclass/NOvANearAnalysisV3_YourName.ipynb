{
  "nbformat": 4,
  "nbformat_minor": 0,
  "metadata": {
    "colab": {
      "provenance": []
    },
    "kernelspec": {
      "name": "python3",
      "display_name": "Python 3"
    },
    "language_info": {
      "name": "python"
    }
  },
  "cells": [
    {
      "cell_type": "markdown",
      "metadata": {
        "id": "fdQ_zgU988Cp"
      },
      "source": [
        "# Data Analysis in Python!\n",
        "Welcome to Python!  \n",
        "\n",
        "First do a \"File - Save a Copy in Drive\" and Rename the notebook (in the top left).  \n",
        "\n",
        "Our goal is not perfect mastery, but to get you started and learn how to work with and edit code \"snippits.\""
      ]
    },
    {
      "cell_type": "code",
      "metadata": {
        "id": "tgYIOEWC7J56"
      },
      "source": [
        "# Always start by importing the analysis packages we'll be using\n",
        "# Notice that any line that stars with a \" # \" symbol is treated as a \"comment\" in Python, meaning it's for our reference and is not treated as code.\n",
        "\n",
        "import pandas as pd  # Helps with organizing and formatting data.  The \"pd\" is a shorthand reference we can refer to this package as\n",
        "import numpy as np   # \"Num Py\" is a package that contains common mathematical and statistical functions\n",
        "import matplotlib as mpl # \"Mat Plot Lib\" is a package that helps with plotting and graphing data\n",
        "import matplotlib.pyplot as plt  #  \"Py Plot\" is a sub-package of Mat Plot Lib that particularly helps with plotting and graphing data\n",
        "\n",
        "# Also, don't forget to \"run\" this block of code to actually import the packages\n",
        "# To \"Run\" a code block, make sure the cursor is in it and then press \"shift\" and \"enter\" at the same time\n",
        "# You can also an option from the \"Runtime\" menu too.  When running this block, it loads the packages in the background.\n",
        "# To help assure the cell has run properly, an output line with a message is below...\n",
        "print(\"Packages Imported!\")"
      ],
      "execution_count": null,
      "outputs": []
    },
    {
      "cell_type": "markdown",
      "metadata": {
        "id": "prqrhZ04U6AM"
      },
      "source": [
        "# Basic Math to Get Started\n",
        "First, just to become familiar with math in Python, let's calculate the Far Detector Ratio in the block below..."
      ]
    },
    {
      "cell_type": "code",
      "metadata": {
        "id": "qljpyBHcU5Sz"
      },
      "source": [
        "# Calculate the Muon Neutrino Event Ratio for the Far Detector (as seen in the images analyzed previously)\n",
        "farCCMuonNeutrinos = 19  # Update this value to the number of Far Events that were Charged Current Muon Neutrino Events\n",
        "farNCAllNeutrinos = 2319  # Update this value to the number of total Non Charged Far Events\n",
        "farEventRatio =   # Setup a math calculation in this line, referring to the previously defined variables, to calculate the Far, Muon Neutrino Event Ratio, with comparison to the total number of events\n",
        "farEventRatio   # A call to the variable alone at the end of the block will print it as an output after this code block is run"
      ],
      "execution_count": null,
      "outputs": []
    },
    {
      "cell_type": "markdown",
      "metadata": {
        "id": "__EZEyku-P4z"
      },
      "source": [
        "# Analysis Goal - Compare Detector Ratios to Determine Evidence of Neutrino Oscillation\n",
        "![Picture of Classroom Setup](https://drive.usercontent.google.com/download?id=1NSD6sVjTjovym0hwAdHXXdyoC9OoDUXM&authuser=1)\n",
        "\n",
        "# Importing Data\n",
        "We'll create a \"Pandas Data Frame,\" that's able to hold large amounts of data.\n",
        "\n",
        "We will pull data from a \"CSV\" file that's hosted on a web page, GitHub.\n",
        "\n",
        "[If you need help with this step, a Screen Shot Tutorial can be found here.](https://docs.google.com/document/d/1bvTkJ6INfPW8tPc-m2EJBHTNpHAFLajMevA-fa_9vug/edit?usp=sharing)"
      ]
    },
    {
      "cell_type": "code",
      "metadata": {
        "id": "5gd25NCuFMgC"
      },
      "source": [
        "# Importing data into a Dataframe from a web based source\n",
        "# For this activity, Near NOvA Event Data can be found already loaded in the session, on the left panel\n",
        "# It is the events data .csv file\n",
        "# Note the name of the data file and paste the name in the call to Panda's read_csv below\n",
        "\n",
        "dataImported = pd.read_csv('file name here')\n",
        "dataImported.head()  # A call to the \"head\" function prints out the first few rows to verify the data was correctly imported\n",
        "\n",
        "# As always, don't forget to \"Run\" this cell when ready!"
      ],
      "execution_count": null,
      "outputs": []
    },
    {
      "cell_type": "markdown",
      "metadata": {
        "id": "-25bbBUwFwtL"
      },
      "source": [
        "# Update the Code Block Below\n",
        "Raw data can be harder to work with, even its titles, so creating a new data frame to hold easier to type & reference names can be useful."
      ]
    },
    {
      "cell_type": "code",
      "metadata": {
        "id": "dKiSPQ9OHcyq"
      },
      "source": [
        "data = pd.DataFrame() # create a new, empty dataframe.  Once it's made, it only needs to be created once.\n",
        "#Finish the code line below, referencing the Longest Track Length Data Column\n",
        "data['longest'] = dataImported['Long___________']\n",
        "data.head() # verify \"longest\" has the longest track length data in it"
      ],
      "execution_count": null,
      "outputs": []
    },
    {
      "cell_type": "markdown",
      "metadata": {
        "id": "HHLMQGgLcGQs"
      },
      "source": [
        "# Viewing the Raw Data\n",
        "With the move to a new, easier to reference Data Frame, the next move could be to get an overview of what is present within the data.\n",
        "\n",
        "First, a call to the \"describe\" function can help give a numerical overview."
      ]
    },
    {
      "cell_type": "code",
      "metadata": {
        "id": "PfR1EvVQcF96"
      },
      "source": [
        "#Run this code block to see the \"describe\" output\n",
        "data.describe()"
      ],
      "execution_count": null,
      "outputs": []
    },
    {
      "cell_type": "markdown",
      "source": [
        "#Reflect on \"Describe\"\n",
        "Be sure to pause and think about what the above values from the \"describe\" call mean...\n",
        "- How many \"Events\" are in the Near Detector data set?  Is this what was expected?\n",
        "- Note the \"min\" and \"max\" values...They're helpful to set the \"range\" in the next step...\n",
        "\n",
        "#Visualize the Data with a Histogram\n",
        "These are all values of similar events, so a visual look using a histogram may also be useful."
      ],
      "metadata": {
        "id": "GqkT3ETfDcdn"
      }
    },
    {
      "cell_type": "code",
      "metadata": {
        "id": "-5mZ_supb8ib"
      },
      "source": [
        "#Update the code lines below.  Note outputs from \"Describe\" to help update values.\n",
        "plt.hist(data['longest'],range=[__lowestRange__,__highestRange__], bins=25, log=False, label='LabelNameHere')  # makes the histogram.\n",
        "plt.title(\"Plot Title Here\")\n",
        "plt.xlabel(\"Horizontal Axis Title\")\n",
        "plt.ylabel(\"Vertical Axis Title\")\n",
        "plt.legend(loc ='upper right') # Displays a legend for help in identifying each set of data being plotted on the single histogram\n",
        "plt.grid(False);"
      ],
      "execution_count": null,
      "outputs": []
    },
    {
      "cell_type": "markdown",
      "source": [
        "# What do you notice?\n",
        "- Is the shape expected?\n",
        "- Play with the number of bins\n",
        "- Compare to the Far Detector Histograms"
      ],
      "metadata": {
        "id": "V5v9yv1X3lN7"
      }
    },
    {
      "cell_type": "markdown",
      "metadata": {
        "id": "NefEC9Wpjz5l"
      },
      "source": [
        "# Ratio & Event Counting - Remember the Goal\n",
        "Next up, we'd like to find a ratio of muon neutrino interactions, compared to the overal number of interactions present."
      ]
    },
    {
      "cell_type": "code",
      "source": [
        "# Recall your analysis work from earlier today\n",
        "# From the Far Detector Event Images, What Length Value was agreed up\n",
        "# To help determine an event was a NuMu event (and not an NC event)\n",
        "\n",
        "trackLengthCutoff = 42  # This number should be updated\n",
        "print(\"Track Length Cutoff Value (cm): \", trackLengthCutoff)"
      ],
      "metadata": {
        "id": "-WMmIn6S3vmg"
      },
      "execution_count": null,
      "outputs": []
    },
    {
      "cell_type": "code",
      "metadata": {
        "id": "6nXmx7yykjV9"
      },
      "source": [
        "# The numpy library has a \"sum\" function that can be called.\n",
        "# The numpy library is the place to go when wanting to do beyond basic math and statistical analysis work in Python.\n",
        "# When used with a logical expression, the number of events that evaluate to \"true\" are then counted and returned...\n",
        "\n",
        "nearCCMuonNeutrinos = np.sum(data['***Column_Of_Interest***'] > ***Length_Limit_Variable_here***)  #Update the references in this line as needed so the result contains the representative number of muon neutrino events from the data set.\n",
        "print(\"Near Detector Charged Current Muon Event Count: \", nearCCMuonNeutrinos)\n"
      ],
      "execution_count": null,
      "outputs": []
    },
    {
      "cell_type": "code",
      "source": [
        "# We also need to determine how many near detector neutrino events remain, representing the Neutral Current events\n",
        "nearNCAllNeutrinos = len(data['***Column_Of_Interest***']) - nearCCMuonNeutrinos  # Here the call to \"len\" returns the length, or number of rows, in the referenced column\n",
        "print(\"Near Detector Neutral Current Event Count:\", nearNCAllNeutrinos)"
      ],
      "metadata": {
        "id": "-GM9Q0JcqTGq"
      },
      "execution_count": null,
      "outputs": []
    },
    {
      "cell_type": "code",
      "metadata": {
        "id": "P7yg1Povk4Kp"
      },
      "source": [
        "# With our CC and NC near detector events determined, now calculate the ratio.\n",
        "# Update the below line as needed to probably create the end ratio, relating number of muon neutrino events to neutral current events\n",
        "nearEventRatio = ***Math Using Variables to Calculate Near Detector Ratio***\n",
        "print(\"Near Detector Event Ratio: \", nearEventRatio)"
      ],
      "execution_count": null,
      "outputs": []
    },
    {
      "cell_type": "code",
      "metadata": {
        "id": "kkDr5zB2ck7z"
      },
      "source": [
        "# A reference back to the original, Far Event Ratio calculated at the begining of the document can help for easier comparison too...\n",
        "# Make a single line call to that variable here, to print it so we can easily view it against the just calculated Near Event Ratio\n",
        "print(\"Far Detector Event Ratio:\",farEven____)"
      ],
      "execution_count": null,
      "outputs": []
    },
    {
      "cell_type": "markdown",
      "metadata": {
        "id": "fvzVcDTLlRv2"
      },
      "source": [
        "# Final Thoughts\n",
        "With the ratio above, compare this value to the ratio seen from the Far Detector Event images that were analyzed earlier.\n",
        "\n",
        "- Are they the same, different?  How do you know?...See below for some more Python based analysis...\n",
        "\n",
        "- What does this mean about the neutrino flavors seen at the near detector...the far detector...?"
      ]
    },
    {
      "cell_type": "code",
      "source": [
        "# A Percent Difference Calculation Could be Used\n",
        "# to Help Decide if the 2 Values are Different\n",
        "# Try this out using the definition...\n",
        "#  ( |valueA - valueB| / (0.5(valueA + valueB ))) X 100\n",
        "\n",
        "eventPercentDiff = (np.abs(nearEventRa__________\n",
        "print(\"Event Percent Difference: \", eventPercentDiff)"
      ],
      "metadata": {
        "id": "hbXafpzu5Lec"
      },
      "execution_count": null,
      "outputs": []
    },
    {
      "cell_type": "code",
      "source": [
        "# Additional comparison analysis could come from creating a \"max\" and \"min\" ratio value for the Near Detector results.\n",
        "# The definition of the length, cut-off value probably has some room for discussion\n",
        "# Looking back at the spreadsheet analysis to determine the length used could help with this.\n",
        "# Define a \"low\" and a \"high\" length value and see if the resulting ratio range could include the Far Detector Ratio Result\n",
        "\n",
        "minNearNuMuEventsCount = ________________\n",
        "minNearNCEventsCount = __________________\n",
        "minRatioNear = __________________________\n",
        "\n",
        "maxNearNuMuEventsCount = ________________\n",
        "maxNearNCEventsCount = __________________\n",
        "maxRatioNear = __________________________\n",
        "\n",
        "print(\"Low Near Event Ratio: \", minRatioNear, \" High  Near Event Ratio: \", maxRatioNear)\n",
        "print(\"Far Event Ratio: \", farEve_____)"
      ],
      "metadata": {
        "id": "IrSV2Q9u_CFx"
      },
      "execution_count": null,
      "outputs": []
    }
  ]
}
