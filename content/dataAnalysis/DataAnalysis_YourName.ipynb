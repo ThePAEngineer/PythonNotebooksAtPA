{
 "cells": [
  {
   "cell_type": "markdown",
   "metadata": {
    "id": "kGV070DNqPI-"
   },
   "source": [
    "# Data Analysis in Python!\n",
    "This notebook introduces the data analysis process within Python as an additional tool to use, in addition to spread sheets.\n",
    "\n",
    "Our goal is not perfect mastery, but to get you started and learn how to work with and edit code \"snippits\" so that they work in your particular application.\n",
    "\n",
    "# What is this?\n",
    "For some more \"formal\" terminology, this is a \"Jupyter notebook\" with blocks of code called cells. You can press shift+ENTER to run a cell and go on to the next one. You can also edit the code and run it again to see how the output changes.\n",
    "\n",
    "# Importing Python Data Packages\n",
    "To start with, we are going to import some commonly used, mathematical \"packages\" that contain resources we'll want to use in our analysis.  Note that in some programming languages \"packages\" are referred to as \"libraries.\"  More details are in the block of Code below...\n"
   ]
  },
  {
   "cell_type": "code",
   "execution_count": null,
   "metadata": {
    "id": "zwXRJp1cq_nh"
   },
   "outputs": [],
   "source": [
    "# Always start by importing the analysis packages we'll be using\n",
    "# Notice that any line that stars with a \" # \" symbol is treated as a \"comment\" in Python, meaning it's for our reference and is not treated as code.\n",
    "\n",
    "import pandas as pd  # Helps with organizing and formatting data.  The \"pd\" is a shorthand reference we can refer to this package as\n",
    "import numpy as np   # \"Num Py\" is a package that contains common mathematical and statistical functions\n",
    "import matplotlib as mpl # \"Mat Plot Lib\" is a package that helps with plotting and graphing data\n",
    "import matplotlib.pyplot as plt  #  \"Py Plot\" is a sub-package of Mat Plot Lib that particularly helps with plotting and graphing data\n",
    "\n",
    "# Also, don't forget to \"run\" this block of code to actually import the packages\n",
    "# To \"Run\" a code block, make sure the cursor is in it and then press \"shift\" and \"enter\" at the same time\n",
    "# You can also an option from the \"Runtime\" menu too.  When running this block, it loads the pacages in the background.\n",
    "# To help assure the cell has run properly, an output line with a message is below...\n",
    "print(\"Packages Imported!\")"
   ]
  },
  {
   "cell_type": "markdown",
   "metadata": {
    "id": "7kHDao7_ukev"
   },
   "source": [
    "# Entering the Data\n",
    "We need to bring data into the python notebook.  To do this, we need to create a \"Pandas Data Frame\" to store our data.\n",
    "\n",
    "There are many ways to import data, but we're going to start with manually entering it here.  Pandas Data Frames work best with data sorted in \"columns\" and \"rows\" with a label.\n",
    "\n",
    "# Use the Data Set below\n",
    "\n",
    "The start of the data entry is seen below, but you should finish it out so that all of the data is present.  The full data set is seen below...\n",
    "\n",
    "|Radius (m)| Force (N)|\n",
    "|:--------:|:--------:|\n",
    "|0.5|60.0|\n",
    "|1.00|31.0|\n",
    "|2.00|15.2|\n",
    "|3.00|9.9|\n",
    "|4.00|7.5|\n",
    "|5.00|6.1|"
   ]
  },
  {
   "cell_type": "code",
   "execution_count": null,
   "metadata": {
    "id": "C87wyg2WwHjL"
   },
   "outputs": [],
   "source": [
    "data_3 = pd.DataFrame(\n",
    "    { \"radius\": [0.5, 1.00, 2.00, __________ ],\n",
    "     \"force\": [60.0, 31.0, 15.2, ___________ ]\n",
    "     })\n",
    "\n",
    "# To check to see if the data was entered correctly, you can use the \"head\" function to print a few lines\n",
    "data_3.head(2)\n",
    "# Use \"shift and enter\" to run the code and see the output"
   ]
  },
  {
   "cell_type": "markdown",
   "metadata": {
    "id": "w8AWNM7Vxz4t"
   },
   "source": [
    "# Graphing the Data\n",
    "Let's make our first \"test plot\" here.\n",
    "\n",
    "Below is a chunk of code that creates a scatter plot, using the matplotlib pyplot library.  Take a look at each line and see if you can decipher what each does"
   ]
  },
  {
   "cell_type": "code",
   "execution_count": null,
   "metadata": {
    "id": "ZZvTNhmNyOE4"
   },
   "outputs": [],
   "source": [
    "xMin = 0\n",
    "yMin = 0\n",
    "plt.scatter(x = data_3[\"radius\"], y = data_3[\"force\"])\n",
    "plt.axis(xmin = xMin, ymin = yMin)\n",
    "plt.title(\"Force vs Radius\")\n",
    "plt.xlabel(\"Radius (m)\")\n",
    "plt.ylabel(\"Force (N)\")\n",
    "plt.show()"
   ]
  },
  {
   "cell_type": "markdown",
   "metadata": {
    "id": "7mF7r0k9ztkT"
   },
   "source": [
    "# Manipulating Data in a DataFrame\n",
    "As you can see, a linear result is not seen when relating Force and Radius.\n",
    "\n",
    "In your spreadsheet, you hopefully took the inverse to achieve a linear result.  Here we'll do the same thing to our data, but in Python.\n",
    "\n",
    "Nicely, the Pandas DataFrame allows us to do math operations on data quickly and easily.  In other programming languages, a \"For Loop\" structure would be needed for this (reminiscent of needing to \"drag\" the small box down to \"apply\" the calculation to each data point in the spreadsheet), but Pandas will do the math operation of ALL of the data in a column for us."
   ]
  },
  {
   "cell_type": "code",
   "execution_count": null,
   "metadata": {
    "id": "aumxCPV_zKvT"
   },
   "outputs": [],
   "source": [
    "data_3[\"inverseR\"] = 1 / data_3[\"radius\"]\n",
    "data_3.head(5)"
   ]
  },
  {
   "cell_type": "code",
   "execution_count": null,
   "metadata": {
    "id": "YD4bWzZE0Xd1"
   },
   "outputs": [],
   "source": [
    "# Plot the data again to see the result.  Copy and Paste are your friends here...\n",
    "xMin = 0\n",
    "yMin = 0\n",
    "plt.scatter(x = data_3[\"__________\"], y = data_3[\"______________\"]) # Fill in the blank spaces here\n",
    "plt.axis(xmin = xMin, ymin = yMin)\n",
    "plt.title(\"__________\")\n",
    "plt.xlabel(\"_________\")\n",
    "plt.ylabel(\"_________\")\n",
    "plt.show()"
   ]
  },
  {
   "cell_type": "markdown",
   "metadata": {
    "id": "a0iKFXev6sCU"
   },
   "source": [
    "# Best Fit Line and Equation\n",
    "As a final result, we should add a \"fit\" line and have Python determine the equation.  This process is more involved than on a spreadsheet, unfortunately.  To help, there's a sample setup (with different data) showing how to do this below.\n",
    "\n",
    "As before, use \"Copy and Paste\", but then manipulate the code so it creates a best fit line and equation for YOUR data."
   ]
  },
  {
   "cell_type": "code",
   "execution_count": null,
   "metadata": {
    "id": "S5cOM2HSUvJY"
   },
   "outputs": [],
   "source": [
    "# Using the Best Fit Sample Code below, Make a Plot of your Linearized Graph for Data Set 3 that has a Best Fit Line.\n"
   ]
  },
  {
   "cell_type": "markdown",
   "metadata": {
    "id": "DRWrLasmAQaX"
   },
   "source": [
    "# Best Fit Sample Code\n",
    "The block of code below shows how to create a best fit line, showing it on a graph and also printing the resulting equation."
   ]
  },
  {
   "cell_type": "code",
   "execution_count": null,
   "metadata": {
    "id": "IhbiAeg29CaV"
   },
   "outputs": [],
   "source": [
    "# The below set of code graphs a linear, best fit line, of a sample data set.  It also produces the resulting linear equation as well.\n",
    "\n",
    "xMin = 0\n",
    "yMin = 0\n",
    "xMax = np.max(sampleData[\"sampleX\"])\n",
    "\n",
    "plt.scatter(x = sampleData[\"sampleX\"], y = sampleData[\"sampleY\"])\n",
    "plt.axis(xmin = xMin, ymin = yMin)\n",
    "plt.title(\"Sample Plot\")\n",
    "plt.xlabel(\"Sample X\")\n",
    "plt.ylabel(\"Sample Y\")\n",
    "\n",
    "# Code to create best fit line is here\n",
    "slope, intercept = np.polyfit(sampleData[\"sampleX\"], sampleData[\"sampleY\"], 1)\n",
    "xValues = np.arange(xMin, xMax, (xMax - xMin)/200) # Creates a set of 200, evenly spaced \"x\" values\n",
    "plt.plot(xValues, slope*xValues + intercept, color = \"r\") # Plots the x values and calculates the \"y\" values based on the best fit line result\n",
    "plt.show()\n",
    "\n",
    "print(\"y=%.6fx+%.6f\"%(slope, intercept)) #Code to print the resulting best fit equation.  Should show below the graph"
   ]
  },
  {
   "cell_type": "markdown",
   "metadata": {
    "id": "ntUdyCEi3bXb"
   },
   "source": [
    "# Analyze Another Data Set Next!\n",
    "Essentially, repeat the process you just completed, but now for a different Data Set, which we'll call Data Set 4 here.\n",
    "\n",
    "Some code blocks are set for you, but feel free to add more as needed.\n",
    "Do your best to add some comments from time to time too to help.\n",
    "\n",
    "Remember that \"Copy and Paste\" are your friends here, but you'll need to adjust the details of the code to make it work with this next data set.\n",
    "\n",
    "The data for Data Set 4 can be seen below...\n",
    "\n",
    "|Length (m)| Time (s)|\n",
    "|:--------:|:--------:|\n",
    "|0.10|0.63|\n",
    "|0.20|0.90|\n",
    "|0.30|1.10|\n",
    "|0.50|1.41|\n",
    "|0.60|1.54|\n",
    "|0.80|1.79|"
   ]
  },
  {
   "cell_type": "code",
   "execution_count": null,
   "metadata": {
    "id": "FConq5bw4p9b"
   },
   "outputs": [],
   "source": [
    "# Create a dataframe that called \"data_4\" that contains the \"length\" and \"time\" data within Data Set 4\n"
   ]
  },
  {
   "cell_type": "code",
   "execution_count": null,
   "metadata": {
    "id": "lyiZiDWm5A74"
   },
   "outputs": [],
   "source": [
    "# Graph Time vs Length and observe what the shape of the graph is\n"
   ]
  },
  {
   "cell_type": "code",
   "execution_count": null,
   "metadata": {
    "id": "Q_k6Yyx65J6i"
   },
   "outputs": [],
   "source": [
    "# If not linear, create a new column in the data_4 dataframe that manipulates the Time or Length values to attempt to achieve a proportional relationship\n",
    "# As a side note, if you find the need to \"raise\" a column, use the \" ** \" operator.  ie, x squared in python is:  x**2\n"
   ]
  },
  {
   "cell_type": "code",
   "execution_count": null,
   "metadata": {
    "id": "pk_Bfxkb5YlN"
   },
   "outputs": [],
   "source": [
    "# Make the next Test Graph, checking for a proprotional result\n"
   ]
  },
  {
   "cell_type": "code",
   "execution_count": null,
   "metadata": {
    "id": "rvP2G2tS59Pe"
   },
   "outputs": [],
   "source": [
    "# If a proprotional result has been reached, make a graph of your Linearized Graph for Data Set 4 that has a Best Fit Line.\n",
    "# Be sure to display the equation of the best fit line too\n"
   ]
  },
  {
   "cell_type": "markdown",
   "metadata": {
    "id": "3Fz7yPvYJgYv"
   },
   "source": [
    "\n",
    "\n",
    "---\n",
    "# Yet Another Data Set!\n",
    "Code blocks are in place below for analysis of another data set.\n",
    "\n",
    "We'll call this Data Set 5 and the data values are...\n",
    "\n",
    "|Distance (cm)| Electric Force (N)|\n",
    "|:--------:|:--------:|\n",
    "|0.10|500|\n",
    "|0.20|125|\n",
    "|0.30|56.0|\n",
    "|0.50|20.2|\n",
    "|0.70|10.2|\n",
    "|0.80|7.8|\n"
   ]
  },
  {
   "cell_type": "code",
   "execution_count": null,
   "metadata": {
    "id": "A27VpywcJ3m6"
   },
   "outputs": [],
   "source": [
    "# Create a dataframe that called \"data_5\" that contains the \"Distance\" and \"EForce\" data within Data Set 5"
   ]
  },
  {
   "cell_type": "code",
   "execution_count": null,
   "metadata": {
    "id": "lPEgsADpJ3wr"
   },
   "outputs": [],
   "source": [
    "# Graph Electric Force vs Distance and observe what the shape of the graph is"
   ]
  },
  {
   "cell_type": "code",
   "execution_count": null,
   "metadata": {
    "id": "NgmjTFNhJ35y"
   },
   "outputs": [],
   "source": [
    "# If not linear, create a new column in the data_5 dataframe that manipulates the Distance or Electric Force values to attempt to achieve a proportional relationship"
   ]
  },
  {
   "cell_type": "code",
   "execution_count": null,
   "metadata": {
    "id": "0NUqgHk4J4DI"
   },
   "outputs": [],
   "source": [
    "# Make the next Test Graph, checking for a proprotional result"
   ]
  },
  {
   "cell_type": "code",
   "execution_count": null,
   "metadata": {
    "id": "DvfxkOCKJ4L_"
   },
   "outputs": [],
   "source": [
    "# This is just an extra code block, in case you need it :)  \n",
    "# You can always add additional code blocks by pressing the \"+ Code\" button at the top left of the screen"
   ]
  },
  {
   "cell_type": "code",
   "execution_count": null,
   "metadata": {
    "id": "yVn1L3NSJ4U3"
   },
   "outputs": [],
   "source": [
    "# If a proprotional result has been reached, make a graph of your Linearized Graph for Data Set 5 that has a Best Fit Line.\n",
    "# Be sure to display the equation of the best fit line too"
   ]
  }
 ],
 "metadata": {
  "colab": {
   "name": "DataAnalysis_YourName.ipynb",
   "provenance": [
    {
     "file_id": "1Fb-0kLGQqItyCPNJMtvyjKrjJOShVOrg",
     "timestamp": 1600634244423
    }
   ]
  },
  "kernelspec": {
   "display_name": "Python 3",
   "name": "python3"
  }
 },
 "nbformat": 4,
 "nbformat_minor": 0
}
