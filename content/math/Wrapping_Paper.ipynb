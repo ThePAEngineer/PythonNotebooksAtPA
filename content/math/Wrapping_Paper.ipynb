{
  "cells": [
    {
      "cell_type": "markdown",
      "metadata": {
        "id": "t-Vcq1i4divB"
      },
      "source": [
        "# Introduction to making columns of data and manipulating them in python.\n",
        "\n",
        "Today you are going to learn how a little coding can make doing math easier, especially when you have a lot of math to do.\n",
        "\n",
        "Click on the arrow to the left of this cell to show the code we are going to be working on.\n",
        "\n",
        "First import your libraries. Everything in green is a comment. In other words it isn't part of the code. It just descibes what the code does for us humans. To run a block of code click on the play button to the left of the block. If you don't run the code with your libraries nothing will work."
      ]
    },
    {
      "cell_type": "code",
      "execution_count": null,
      "metadata": {
        "id": "R4-lNabHrmQs"
      },
      "outputs": [],
      "source": [
        "#This code gets us the libraries we are going to use to do stuff\n",
        "import pandas as pd\n",
        "import numpy as np"
      ]
    },
    {
      "cell_type": "markdown",
      "metadata": {
        "id": "GTHjwm4UeGSa"
      },
      "source": [
        "Next, we need to import our data."
      ]
    },
    {
      "cell_type": "code",
      "execution_count": null,
      "metadata": {
        "id": "Jd_s5iB3D8Zz"
      },
      "outputs": [],
      "source": [
        "#This code creates a variable called 'df' that we can play with. (df is short for data frame, but you can call it whatever you want.)\n",
        "#In this particular case df is a set of 10 pairs of random integers ranging from 1 to 10.\n",
        "df= pd.DataFrame(np.random.randint(1, 11, (10,2)))\n",
        "\n",
        "#prints the variable called 'df'\n",
        "df\n"
      ]
    },
    {
      "cell_type": "markdown",
      "metadata": {
        "id": "NPj27VpWLmGP"
      },
      "source": [
        "Now lets give our columns of random numbers some more interesting names.\n",
        "Change the column names (in red) to something you like, but that makes sense."
      ]
    },
    {
      "cell_type": "code",
      "execution_count": null,
      "metadata": {
        "id": "t3siV19AjR7Z"
      },
      "outputs": [],
      "source": [
        "#create column names\n",
        "df.columns = ['thing 1', 'thing 2']\n",
        "\n",
        "#show data\n",
        "df"
      ]
    },
    {
      "cell_type": "markdown",
      "metadata": {
        "id": "x3ok0Pp9N3Pa"
      },
      "source": [
        "Before we can start manipluating our data we need to know how python does math. It's pretty straight forward which is nice. Run the code below to see how math operations work in python."
      ]
    },
    {
      "cell_type": "code",
      "execution_count": null,
      "metadata": {
        "id": "xqSrWVPFOIwj"
      },
      "outputs": [],
      "source": [
        "3*2"
      ]
    },
    {
      "cell_type": "code",
      "execution_count": null,
      "metadata": {
        "id": "cR5C20qpOM0y"
      },
      "outputs": [],
      "source": [
        "6/3"
      ]
    },
    {
      "cell_type": "code",
      "execution_count": null,
      "metadata": {
        "id": "tkdnAJKYOSfS"
      },
      "outputs": [],
      "source": [
        "2+3"
      ]
    },
    {
      "cell_type": "code",
      "execution_count": null,
      "metadata": {
        "id": "qRHitWqwOVnd"
      },
      "outputs": [],
      "source": [
        "3-2"
      ]
    },
    {
      "cell_type": "code",
      "execution_count": null,
      "metadata": {
        "id": "FSiEl8EKOX88"
      },
      "outputs": [],
      "source": [
        "6**2"
      ]
    },
    {
      "cell_type": "code",
      "execution_count": null,
      "metadata": {
        "cellView": "form",
        "id": "l6JYCbqNIRos"
      },
      "outputs": [],
      "source": [
        "#@markdown Why does 6 divided by 3 give a decimal while the other expressions give integers?\n",
        "\n",
        "Response_1 = \"\" #@param {type: 'string'}"
      ]
    },
    {
      "cell_type": "code",
      "execution_count": null,
      "metadata": {
        "cellView": "form",
        "id": "DEpvWLGWPUP4"
      },
      "outputs": [],
      "source": [
        "#@markdown What operation do you think is happening in that last cell?\n",
        "\n",
        "Response_2 = \"\" #@param {type: 'string'}"
      ]
    },
    {
      "cell_type": "markdown",
      "metadata": {
        "id": "yW_htefQPz3t"
      },
      "source": [
        "So let's say I want to add the data in column 1 to the data in column 2. I would use the headers of the columns as their names and add the names together. Check out the code below."
      ]
    },
    {
      "cell_type": "code",
      "execution_count": null,
      "metadata": {
        "id": "S2VT4y3vQEZm"
      },
      "outputs": [],
      "source": [
        "df['thing 1'] + df['thing 2']"
      ]
    },
    {
      "cell_type": "markdown",
      "metadata": {
        "id": "82GdMrtqQTom"
      },
      "source": [
        "So the computer is showing me a list of all the added up values, but I want to see this as a new column along with the rest of my data. I need to create a new column name which I'll do in the code below."
      ]
    },
    {
      "cell_type": "code",
      "execution_count": null,
      "metadata": {
        "id": "Aa6v9j5eQwTI"
      },
      "outputs": [],
      "source": [
        "df['addition'] = df['thing 1'] + df['thing 2']\n",
        "\n",
        "#now show me the data\n",
        "df"
      ]
    },
    {
      "cell_type": "markdown",
      "metadata": {
        "id": "mDEZXerIRAxq"
      },
      "source": [
        "Now we can see that the numbers in the first two columns add up to the value in the third column.\n",
        "\n",
        "It's your turn. Write some code to perform at least 2 more opperations on the data and show it in two new columns that you name."
      ]
    },
    {
      "cell_type": "code",
      "execution_count": null,
      "metadata": {
        "id": "my-ncUAZRWGE"
      },
      "outputs": [],
      "source": [
        "#...and GO\n"
      ]
    },
    {
      "cell_type": "markdown",
      "metadata": {
        "id": "PCJi6S30RgFP"
      },
      "source": [
        "Look at you coding in python!\n",
        "\n",
        "Time to apply what you have learned about coding to geometry."
      ]
    },
    {
      "cell_type": "markdown",
      "metadata": {
        "id": "YDJUZw8bdu2Y"
      },
      "source": [
        "# How Much Wrapping Paper do we Need?"
      ]
    },
    {
      "cell_type": "markdown",
      "metadata": {
        "id": "amy-EHedexO4"
      },
      "source": [
        "##### The elves are running low on wrapping paper, so they need to submit an order for more. They have a list of the dimensions (length l, width w, and height h) of each present, and only want to order exactly as much as they need.\n",
        "\n",
        "Fortunately, every present is a box (a perfect rectangular prism), which makes calculating the required wrapping paper for each gift a little easier: find the surface area of the box, which is 2lw + 2wh + 2hl. The elves also need a little extra paper for each present: the area of the smallest side. This allows for some paper to overlap.\n",
        "\n",
        "For example:\n",
        "\n",
        "A present with dimensions 2x3x4 requires (2 x 6) + (2 x 12) + (2 x 8) = 52 square feet of wrapping paper plus 6 square feet of slack, for a total of 58 square feet. A present with dimensions 1x1x10 requires (2 x 1) + (2 x 10) + (2 x 10) = 42 square feet of wrapping paper plus 1 square foot of slack, for a total of 43 square feet. All numbers in the elves' list are in feet. How many total square feet of wrapping paper should they order?"
      ]
    },
    {
      "cell_type": "markdown",
      "metadata": {
        "id": "hOf2ieUEfKer"
      },
      "source": [
        "###### This would be a very time consuming task to complete by hand or even with a calculator, but using python we can find the solution with a few short lines of code."
      ]
    },
    {
      "cell_type": "code",
      "execution_count": null,
      "metadata": {
        "id": "xm0OKGJEeLFe"
      },
      "outputs": [],
      "source": [
        "#import data\n",
        "url = 'https://raw.githubusercontent.com/jybreman/geochristmas/main/geochristmas%20data%20-%20Sheet1%20(3).csv'\n",
        "data = pd.read_csv(url)\n",
        "\n",
        "#prints the first 5 lines of data (or whatever humber of lines you put in parenthesis, 5 is the default)\n",
        "data.head()\n"
      ]
    },
    {
      "cell_type": "code",
      "execution_count": null,
      "metadata": {
        "cellView": "form",
        "id": "idzo_9J6zr2w"
      },
      "outputs": [],
      "source": [
        "#@markdown Notice that the data we are given is in the format LxWxH. What are we supposed to do with that? What do you think we need to do?\n",
        "Thoughts = \" get rid of the x's\" #@param {type: 'string'}\n",
        "#@markdown Once you have mulled it over check out the code below to see how to address our problem."
      ]
    },
    {
      "cell_type": "code",
      "execution_count": null,
      "metadata": {
        "colab": {
          "base_uri": "https://localhost:8080/",
          "height": 206
        },
        "id": "Pvm_nuavx-BK",
        "outputId": "953d37c0-2a90-4ede-a23f-ab5861849c80"
      },
      "outputs": [],
      "source": [
        "#import the data again, but this time split it every time there is a 'x', make a header on the first row, and name the columns L, W, and H\n",
        "data = pd.read_csv(url, delimiter='x', header=0, names=['L','W','H']) #make the data pretty\n",
        "data.head()"
      ]
    },
    {
      "cell_type": "markdown",
      "metadata": {
        "id": "rPwtyspMUfGZ"
      },
      "source": [
        "See what happens if you just type in data instead of data.head()\n",
        "\n",
        "So we have 1000 boxes to wrap, and we have the length, width, and height of each box in feet."
      ]
    },
    {
      "cell_type": "markdown",
      "metadata": {
        "id": "7DDWO9kZVb3r"
      },
      "source": [
        "Just for funnzies lets make a column for the volume of each box."
      ]
    },
    {
      "cell_type": "code",
      "execution_count": null,
      "metadata": {
        "id": "UCxN8FSSJ6XZ"
      },
      "outputs": [],
      "source": [
        "#make a column for the volume of a box\n"
      ]
    },
    {
      "cell_type": "markdown",
      "metadata": {
        "id": "FRml07OmVpsg"
      },
      "source": [
        "What do you think you should do next? Remember we need to know the surface area of each box to get the total amount of wrapping paper needed. You can refer back to any part of this colab."
      ]
    },
    {
      "cell_type": "code",
      "execution_count": null,
      "metadata": {
        "id": "PTqpkfhKVoXx"
      },
      "outputs": [],
      "source": [
        "#make columns for the areas of 3 different faces then multiply each face area by 2 (because there's 2 of each face in a rectangluar prism).\n",
        "#so you should create 3 columns here.\n",
        "\n"
      ]
    },
    {
      "cell_type": "markdown",
      "metadata": {
        "id": "ZkuJAfhvWQvW"
      },
      "source": [
        "Here is a freebie. You need to add in the area of the smallest side which means you need to make a variable for the smallest side. You will have to change the header names to match whatever you named them."
      ]
    },
    {
      "cell_type": "code",
      "execution_count": null,
      "metadata": {
        "id": "B2qvu9IgWPYF"
      },
      "outputs": [],
      "source": [
        "#makes a column for the side with the minimum surface area\n",
        "data['minside'] = data[['side 1', 'side 2', 'side 3']].min(axis=1)\n",
        "data.head()\n"
      ]
    },
    {
      "cell_type": "markdown",
      "metadata": {
        "id": "0UOFmuk5XR_s"
      },
      "source": [
        "Now make a column for the total surface area of a box including the area of the smallest side."
      ]
    },
    {
      "cell_type": "code",
      "execution_count": null,
      "metadata": {
        "id": "8A25wE9QXP4b"
      },
      "outputs": [],
      "source": [
        "#make a column for the total surface area of a box including the area of the smallest side\n",
        "\n",
        "\n",
        "#show the first five rows of data\n",
        "data.head()\n"
      ]
    },
    {
      "cell_type": "markdown",
      "metadata": {
        "id": "EaEinGHMXrQk"
      },
      "source": [
        "Now we just need to add up the final column right? Run the code below with your heading in place of totSA (total surface area)."
      ]
    },
    {
      "cell_type": "code",
      "execution_count": null,
      "metadata": {
        "id": "b80H9vXqhZy4"
      },
      "outputs": [],
      "source": [
        "#calculates and displays the sum of the total surface areas (with the min side added in) of all the boxes\n",
        "print (\"The elves need\", data['totSA'].sum(), \"square feet of wrapping paper\")"
      ]
    },
    {
      "cell_type": "code",
      "execution_count": null,
      "metadata": {
        "cellView": "form",
        "id": "xeLbW6f9xlEK"
      },
      "outputs": [],
      "source": [
        "#@markdown Please record the total square footage of all the boxes below.\n",
        "Total_Surface_Area = ' 29786 square ft.' #@param {type: 'string'}\n",
        "#@markdown Once you have completed all tasks please run the code below to send your answers to me."
      ]
    },
    {
      "cell_type": "code",
      "execution_count": null,
      "metadata": {
        "id": "WxYHtIL9sCvo"
      },
      "outputs": [],
      "source": [
        "#this box of code sends your answers from the embedded questions to a spreadsheet that only I have access to.\n",
        "from google.colab import drive\n",
        "drive.mount('/content/drive')\n",
        "\n",
        "from google.colab import auth\n",
        "auth.authenticate_user()\n",
        "\n",
        "import gspread\n",
        "from google.auth import default\n",
        "creds, _ = default()\n",
        "\n",
        "gc = gspread.authorize(creds)\n",
        "\n",
        "def next_available_row(worksheet):\n",
        "    str_list = list(filter(None, worksheet.col_values(1)))\n",
        "    return str(len(str_list)+1)\n",
        "\n",
        "try:\n",
        "  student_responses = gc.open('Wrapping Paper Responses').sheet1\n",
        "except:\n",
        "  print('Creating file')\n",
        "  student_responses = gc.create('Wrapping Paper Responses').sheet1\n",
        "\n",
        "first_row = next_available_row(student_responses)\n",
        "range = f'A{first_row}:E{first_row}'\n",
        "cell_list = student_responses.range(range)\n",
        "responses = [Name, Response_1, Response_2, Thoughts, Total_Surface_Area]\n",
        "for cell,value in zip(cell_list, responses):\n",
        "  cell.value = value\n",
        "\n",
        "student_responses.update_cells(cell_list)\n",
        "# Go to https://sheets.google.com to see your new spreadsheet."
      ]
    },
    {
      "cell_type": "markdown",
      "metadata": {
        "id": "ufN1iF7bNUGc"
      },
      "source": [
        "# Credits"
      ]
    },
    {
      "cell_type": "markdown",
      "metadata": {
        "id": "uy8sc4ynHT9u"
      },
      "source": [
        "This notebook was designed by [Quarknet](https://quarknet.org/) Coding Fellow Joy Breman with the help of Quarknet Teaching and Learning Fellow Adam Lamee. Thanks to the great folks at [Binder](https://mybinder.org/) and [Google Colaboratory](https://colab.research.google.com/notebooks/intro.ipynb) for making this notebook interactive without you needing to download it or install [Jupyter](https://jupyter.org/) on your own device. Find more activities at Adam's site, [CODINGinK12.org](https://adamlamee.github.io/CODINGinK12/teachers)."
      ]
    }
  ],
  "metadata": {
    "colab": {
      "collapsed_sections": [
        "t-Vcq1i4divB",
        "YDJUZw8bdu2Y",
        "amy-EHedexO4",
        "hOf2ieUEfKer"
      ],
      "include_colab_link": true,
      "provenance": []
    },
    "kernelspec": {
      "display_name": "Python 3",
      "name": "python3"
    },
    "language_info": {
      "name": "python"
    }
  },
  "nbformat": 4,
  "nbformat_minor": 0
}
