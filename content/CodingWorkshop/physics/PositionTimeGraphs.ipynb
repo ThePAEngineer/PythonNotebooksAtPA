{
  "cells": [
    {
      "cell_type": "markdown",
      "metadata": {
        "id": "RiCvvrFnP3Jl"
      },
      "source": [
        "# Position Time Graphs: Modeling\n",
        "In this activity, you'll use the *position function* to model different types of motion.\n",
        "\n",
        "To get started,\n",
        "- You won't hurt anything by experimenting. If you break it, close the tab and open the activity again to start over.\n",
        "\n",
        "When you're ready, run each code cell until you get down to the next text cell."
      ]
    },
    {
      "cell_type": "code",
      "execution_count": 1,
      "metadata": {
        "id": "TkBhTkHjP3Jr"
      },
      "outputs": [],
      "source": [
        "# this cell only needs to be run once, but re-exectuing it doesn't hurt anything either\n",
        "# imports software packages (not too exciting)\n",
        "import pandas as pd\n",
        "import numpy as np\n",
        "%matplotlib inline\n",
        "import matplotlib as mpl\n",
        "import matplotlib.pyplot as plt"
      ]
    },
    {
      "cell_type": "markdown",
      "metadata": {
        "id": "EDPLAYodP3Ju"
      },
      "source": [
        "The code in the next box sets values for some parameters of motion.  \n",
        "- What is the initial velocity? What's the name of the variable stores that value?  \n",
        "- Edit the text below with the proper SI units for each quantity. Re-run the code to make sure your like your edits.  \n",
        "\n",
        "These coefficients can be used to predict the motion using the *position function*. The position function is a quadratic equation that predicts the position of an object:  \n",
        "$$x_f=x_i+v_i t+\\frac{1}{2}at^2$$\n",
        "The variables are:  \n",
        "- final position, $x_f$\n",
        "- initial position, $x_i$\n",
        "- initial velocity, $v_i$\n",
        "- time, $t$\n",
        "- acceleration, $a$\n"
      ]
    },
    {
      "cell_type": "code",
      "execution_count": null,
      "metadata": {
        "id": "-6ydpTDWP3Jt"
      },
      "outputs": [],
      "source": [
        "# this sets the coefficients\n",
        "xi = 0\n",
        "vi = 3\n",
        "a = -9.8\n",
        "print(\"initial position =\", xi, \"m\")\n",
        "print(\"initial velocity =\", vi, \"m/s\")\n",
        "print(\"acceleration =\", a, \"m/s/s\")"
      ]
    },
    {
      "cell_type": "code",
      "execution_count": null,
      "metadata": {
        "id": "jser7oYaP3Jv"
      },
      "outputs": [],
      "source": [
        "# makes an empty position/time data set\n",
        "time_list = []  \n",
        "position_list = []\n",
        "t = 0               # sets a starting value for time\n",
        "\n",
        "while (t < 11):                  # runs the 4 lines below until time is not < 11\n",
        "    time_list.append(t)          # saves the time value\n",
        "    xf = xi + vi*t + .5*a*t**2   # calculates xf\n",
        "    position_list.append(xf)     # saves xf as the position value\n",
        "    t = t + 0.01                    \n",
        "\n",
        "#   this creates a scatterplot: plt.scatter(x-variable, y-variable)\n",
        "plt.scatter(time_list, position_list)\n",
        "plt.title(\"I'm a title\")\n",
        "plt.xlabel(\"Fix Me\")\n",
        "plt.ylabel(\"Me Too!\");"
      ]
    },
    {
      "cell_type": "markdown",
      "metadata": {
        "id": "4ks50swyP3Jw"
      },
      "source": [
        " \n",
        "The code above makes a graph of a *position function*.  \n",
        "- How does the shape of the graph indicate the object is accelerating?  \n",
        "- Edit the coefficients in the second code cell to model the different types of motion below. You'll need to re-run that code to store the new values in your coefficients. Then, re-run the graph code to see the new graph.  \n",
        "    - Model constant speed motion at 5 m/s.  \n",
        "    - Model the motion of an object moving backwards with a constant speed \n",
        "    - Model the motion of an object moving backwards with a changing speed.  \n",
        "    - Model the motion of a projectile on Earth, like a basketball, thrown straight up."
      ]
    },
    {
      "cell_type": "markdown",
      "metadata": {
        "id": "rFJyp8e29oMA"
      },
      "source": [
        "    \n",
        "## Coding Challenge\n",
        "- Try making a graph that plots motion every 0.5 seconds.\n",
        "- Try plotting 20 seconds of data. \n"
      ]
    },
    {
      "cell_type": "markdown",
      "metadata": {
        "id": "quyxu_BRP3Jz"
      },
      "source": [
        "## Credits\n",
        "This notebook was designed by [Adam LaMee](https://adamlamee.github.io/), who coordinated its development as the [PhysTEC](https://www.phystec.org/) Teacher-in-residence in the [University of Central Florida's Physics department](https://sciences.ucf.edu/physics/). Additional modifications were made by Peter Apps, Tiffany Coke and Tracie Schroeder. Thanks to the great folks at [Binder](https://mybinder.org/) and [Google Colaboratory](https://colab.research.google.com/notebooks/intro.ipynb) for making this notebook interactive without you needing to download it or install [Jupyter](https://jupyter.org/) on your own device. Find more activities and license info at [CODINGinK12.org](http://www.codingink12.org)."
      ]
    },
    {
      "cell_type": "markdown",
      "metadata": {
        "id": "HPuzBf_-lDOp"
      },
      "source": [
        "##Documentation\n",
        "[Matplotlib](https://matplotlib.org/stable/index.html)\n",
        "\n",
        "[Numpy](https://numpy.org/doc/stable/)\n"
      ]
    }
  ],
  "metadata": {
    "colab": {
      "collapsed_sections": [
        "8tUG_sHorh4c"
      ],
      "include_colab_link": true,
      "provenance": []
    },
    "kernelspec": {
      "display_name": "base",
      "language": "python",
      "name": "python3"
    },
    "language_info": {
      "codemirror_mode": {
        "name": "ipython",
        "version": 3
      },
      "file_extension": ".py",
      "mimetype": "text/x-python",
      "name": "python",
      "nbconvert_exporter": "python",
      "pygments_lexer": "ipython3",
      "version": "3.9.12"
    }
  },
  "nbformat": 4,
  "nbformat_minor": 0
}
